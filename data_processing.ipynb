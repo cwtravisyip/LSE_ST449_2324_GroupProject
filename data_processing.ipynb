{
 "cells": [
  {
   "cell_type": "markdown",
   "metadata": {},
   "source": [
    "This notebook is used to process the flight schedule data.\n",
    "Namely, we will simulate the nnumber of passenger on each flight. We will simply assume that it is normally distributed over a mean of 30 and a standard deviation of 50.\n",
    "\n",
    "## Set-up"
   ]
  },
  {
   "cell_type": "code",
   "execution_count": 142,
   "metadata": {},
   "outputs": [],
   "source": [
    "# import packages\n",
    "import numpy as np \n",
    "import math\n",
    "import pandas as pd \n",
    "import os "
   ]
  },
  {
   "cell_type": "code",
   "execution_count": 143,
   "metadata": {},
   "outputs": [],
   "source": [
    "# load the csv files\n",
    "data_files = os.listdir(\"./data\")"
   ]
  },
  {
   "cell_type": "markdown",
   "metadata": {},
   "source": [
    "## Processing\n",
    "We will add a column to each of the flight schedule we have and parse the date as appropriate.\n",
    "Note that the current data file only includes the time but not the date. "
   ]
  },
  {
   "cell_type": "code",
   "execution_count": 147,
   "metadata": {},
   "outputs": [
    {
     "name": "stdout",
     "output_type": "stream",
     "text": [
      "Processing file 20DEC2023_HKG.csv\n",
      "20DEC2023_HKG_processed.csv\n",
      "Processing file 21DEC2023_HKG.csv\n",
      "21DEC2023_HKG_processed.csv\n",
      "Processing file 19DEC2023_LHR.csv\n",
      "19DEC2023_LHR_processed.csv\n",
      "Processing file 19DEC2023_AMS.csv\n",
      "19DEC2023_AMS_processed.csv\n",
      "Processing file 22DEC2023_HKG.csv\n",
      "22DEC2023_HKG_processed.csv\n",
      "Processing file 19DEC2023_HKG.csv\n",
      "19DEC2023_HKG_processed.csv\n",
      "Processing file 22DEC2023_AMS.csv\n",
      "22DEC2023_AMS_processed.csv\n",
      "Processing file 21DEC2023_AMS.csv\n",
      "21DEC2023_AMS_processed.csv\n"
     ]
    }
   ],
   "source": [
    "for file in data_files:\n",
    "    df = pd.read_csv(f\"./data/{file}\")\n",
    "    print(f\"Processing file {file}\")\n",
    "\n",
    "    # add a column of integer passenger load per flight\n",
    "    np.random.seed(2024)\n",
    "    df['pass_load'] = np.random.normal(300,50,size =len(df))\n",
    "    df['pass_load']  = df['pass_load'].apply(lambda x: math.floor(x))\n",
    "\n",
    "    # parse the schedule time to add the date\n",
    "    month = file[2:5]\n",
    "    date = file[0:2]\n",
    "    time_sch = pd.Series(f\"2023 {month} {date} \" + df['time_sch'])\n",
    "    df['time_sch'] = pd.to_datetime(time_sch, format = \"%Y %b %d %H:%M\")\n",
    "\n",
    "    # parsing the actual time\n",
    "    # if file is on amsterdam\n",
    "    if file[10:13] == \"AMS\":\n",
    "        # the actual time either on time or delayed\n",
    "        time_act = pd.Series(f\"2023 {month} {date} \" + df['time_act'])\n",
    "        df['time_act'] = pd.to_datetime(time_act, format = \"%Y %b %d %H:%M\")\n",
    "        df[\"time_diff\"]  = df.apply(lambda x:(x['time_act'] - x['time_sch']).total_seconds(), axis = 1)\n",
    "        # columns with negative time difference\n",
    "        indices = df.query(\"time_diff < 0\").index\n",
    "        for ind in indices:\n",
    "            df.loc[ind,\"time_act\"] = df.loc[ind,\"time_act\"] + pd.Timedelta(1, unit = \"D\")\n",
    "\n",
    "    elif file[10:13] == \"HKG\":\n",
    "        # parse the time\n",
    "        time_act_t = df[\"time_act\"].str.split(\":\")\n",
    "        time_act_t = time_act_t.apply(lambda x: f\"{x[0][-2:]}:{x[1][:2]}\" if len(x) == 2 else \"23:59\")\n",
    "        # parse the date\n",
    "        time_act_d = df[\"time_act\"].str.split(\"/\")\n",
    "        time_act_d = time_act_d.apply(lambda x: x[0][-2:] if len(x) > 2 else None)\n",
    "        time_act_d = time_act_d.fillna(date)\n",
    "        # concatenate the time and the date\n",
    "        time_act = \"2023 \" + month + \" \" + time_act_d + \" \" + time_act_t\n",
    "        df['time_act'] = pd.to_datetime(time_act, format = \"%Y %b %d %H:%M\")\n",
    "        \n",
    "    df = df.sort_values(\"time_sch\").reset_index(drop = True)\n",
    "\n",
    "    # save to new csv\n",
    "    file_name = file[:-4]+\"_processed.csv\"\n",
    "    print(file_name)\n",
    "    df.to_csv(f\"./data/{file_name}\", index = False)\n"
   ]
  },
  {
   "cell_type": "code",
   "execution_count": null,
   "metadata": {},
   "outputs": [],
   "source": []
  }
 ],
 "metadata": {
  "kernelspec": {
   "display_name": "base",
   "language": "python",
   "name": "python3"
  },
  "language_info": {
   "codemirror_mode": {
    "name": "ipython",
    "version": 3
   },
   "file_extension": ".py",
   "mimetype": "text/x-python",
   "name": "python",
   "nbconvert_exporter": "python",
   "pygments_lexer": "ipython3",
   "version": "3.8.3"
  }
 },
 "nbformat": 4,
 "nbformat_minor": 2
}
