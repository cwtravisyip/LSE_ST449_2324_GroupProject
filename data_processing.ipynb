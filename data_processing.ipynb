{
 "cells": [
  {
   "cell_type": "markdown",
   "metadata": {},
   "source": [
    "This notebook is used to process the flight schedule data.\n",
    "Namely, we will simulate the nnumber of passenger on each flight. We will simply assume that it is normally distributed over a mean of 30 and a standard deviation of 50.\n",
    "\n",
    "## Set-up"
   ]
  },
  {
   "cell_type": "code",
   "execution_count": 1,
   "metadata": {},
   "outputs": [
    {
     "name": "stderr",
     "output_type": "stream",
     "text": [
      "/Users/Tra_FIT/opt/anaconda3/lib/python3.8/site-packages/pandas/core/computation/expressions.py:20: UserWarning: Pandas requires version '2.7.3' or newer of 'numexpr' (version '2.7.1' currently installed).\n",
      "  from pandas.core.computation.check import NUMEXPR_INSTALLED\n"
     ]
    }
   ],
   "source": [
    "# import packages\n",
    "import numpy as np \n",
    "import math\n",
    "import pandas as pd \n",
    "import os "
   ]
  },
  {
   "cell_type": "code",
   "execution_count": 2,
   "metadata": {},
   "outputs": [],
   "source": [
    "# load the csv files\n",
    "data_files = os.listdir(\"./data\")"
   ]
  },
  {
   "cell_type": "markdown",
   "metadata": {},
   "source": [
    "## Processing\n",
    "We will add a column to each of the flight schedule we have and parse the date as appropriate.\n",
    "Note that the current data file only includes the time but not the date. "
   ]
  },
  {
   "cell_type": "code",
   "execution_count": 54,
   "metadata": {},
   "outputs": [],
   "source": [
    "file = data_files[1]\n",
    "df = pd.read_csv(f\"./data/{file}\")"
   ]
  },
  {
   "cell_type": "code",
   "execution_count": 55,
   "metadata": {},
   "outputs": [],
   "source": [
    "# add a column of integer passenger load per flight\n",
    "np.random.seed(2024)\n",
    "df['pass_load'] = np.random.normal(300,50,size =len(df))\n",
    "df['pass_load']  = df['pass_load'].apply(lambda x: math.floor(x))\n"
   ]
  },
  {
   "cell_type": "code",
   "execution_count": 56,
   "metadata": {},
   "outputs": [
    {
     "data": {
      "text/html": [
       "<div>\n",
       "<style scoped>\n",
       "    .dataframe tbody tr th:only-of-type {\n",
       "        vertical-align: middle;\n",
       "    }\n",
       "\n",
       "    .dataframe tbody tr th {\n",
       "        vertical-align: top;\n",
       "    }\n",
       "\n",
       "    .dataframe thead th {\n",
       "        text-align: right;\n",
       "    }\n",
       "</style>\n",
       "<table border=\"1\" class=\"dataframe\">\n",
       "  <thead>\n",
       "    <tr style=\"text-align: right;\">\n",
       "      <th></th>\n",
       "      <th>code</th>\n",
       "      <th>time_sch</th>\n",
       "      <th>dest</th>\n",
       "      <th>time_act</th>\n",
       "      <th>commercial</th>\n",
       "      <th>orig</th>\n",
       "      <th>pass_load</th>\n",
       "    </tr>\n",
       "  </thead>\n",
       "  <tbody>\n",
       "    <tr>\n",
       "      <th>0</th>\n",
       "      <td>CX 261</td>\n",
       "      <td>00:05</td>\n",
       "      <td>Paris</td>\n",
       "      <td>Dep 00:09</td>\n",
       "      <td>1</td>\n",
       "      <td>HKG</td>\n",
       "      <td>383</td>\n",
       "    </tr>\n",
       "    <tr>\n",
       "      <th>1</th>\n",
       "      <td>RH 358</td>\n",
       "      <td>00:05</td>\n",
       "      <td>Almaty\\nMilan/MXP</td>\n",
       "      <td>Dep 07:08</td>\n",
       "      <td>0</td>\n",
       "      <td>HKG</td>\n",
       "      <td>336</td>\n",
       "    </tr>\n",
       "    <tr>\n",
       "      <th>2</th>\n",
       "      <td>CX 2035</td>\n",
       "      <td>00:10</td>\n",
       "      <td>HKG</td>\n",
       "      <td>At gate 23:55 (20/12/2023)</td>\n",
       "      <td>0</td>\n",
       "      <td>Osaka/Kansai\\nTaipei</td>\n",
       "      <td>289</td>\n",
       "    </tr>\n",
       "    <tr>\n",
       "      <th>3</th>\n",
       "      <td>MU 725</td>\n",
       "      <td>00:15</td>\n",
       "      <td>HKG</td>\n",
       "      <td>At gate 00:29</td>\n",
       "      <td>1</td>\n",
       "      <td>Shanghai/PVG</td>\n",
       "      <td>292</td>\n",
       "    </tr>\n",
       "    <tr>\n",
       "      <th>4</th>\n",
       "      <td>CX 289</td>\n",
       "      <td>00:15</td>\n",
       "      <td>Frankfurt</td>\n",
       "      <td>Dep 00:17</td>\n",
       "      <td>1</td>\n",
       "      <td>HKG</td>\n",
       "      <td>345</td>\n",
       "    </tr>\n",
       "  </tbody>\n",
       "</table>\n",
       "</div>"
      ],
      "text/plain": [
       "      code time_sch               dest                    time_act  \\\n",
       "0   CX 261    00:05              Paris                   Dep 00:09   \n",
       "1   RH 358    00:05  Almaty\\nMilan/MXP                   Dep 07:08   \n",
       "2  CX 2035    00:10                HKG  At gate 23:55 (20/12/2023)   \n",
       "3   MU 725    00:15                HKG               At gate 00:29   \n",
       "4   CX 289    00:15          Frankfurt                   Dep 00:17   \n",
       "\n",
       "   commercial                  orig  pass_load  \n",
       "0           1                   HKG        383  \n",
       "1           0                   HKG        336  \n",
       "2           0  Osaka/Kansai\\nTaipei        289  \n",
       "3           1          Shanghai/PVG        292  \n",
       "4           1                   HKG        345  "
      ]
     },
     "execution_count": 56,
     "metadata": {},
     "output_type": "execute_result"
    }
   ],
   "source": [
    "df.head()"
   ]
  },
  {
   "cell_type": "code",
   "execution_count": 57,
   "metadata": {},
   "outputs": [],
   "source": [
    "# parse the schedule time to add the date\n",
    "month = file[2:5]\n",
    "date = file[0:2]\n",
    "time_sch = pd.Series(f\"2023 {month} {date} \" + df['time_sch'])\n",
    "df['time_sch'] = pd.to_datetime(time_sch, format = \"%Y %b %d %H:%M\")\n",
    "\n",
    "# parse the actual time\n",
    "# try:\n",
    "    \n"
   ]
  },
  {
   "cell_type": "code",
   "execution_count": 58,
   "metadata": {},
   "outputs": [
    {
     "data": {
      "text/html": [
       "<div>\n",
       "<style scoped>\n",
       "    .dataframe tbody tr th:only-of-type {\n",
       "        vertical-align: middle;\n",
       "    }\n",
       "\n",
       "    .dataframe tbody tr th {\n",
       "        vertical-align: top;\n",
       "    }\n",
       "\n",
       "    .dataframe thead th {\n",
       "        text-align: right;\n",
       "    }\n",
       "</style>\n",
       "<table border=\"1\" class=\"dataframe\">\n",
       "  <thead>\n",
       "    <tr style=\"text-align: right;\">\n",
       "      <th></th>\n",
       "      <th>code</th>\n",
       "      <th>time_sch</th>\n",
       "      <th>dest</th>\n",
       "      <th>time_act</th>\n",
       "      <th>commercial</th>\n",
       "      <th>orig</th>\n",
       "      <th>pass_load</th>\n",
       "    </tr>\n",
       "  </thead>\n",
       "  <tbody>\n",
       "    <tr>\n",
       "      <th>0</th>\n",
       "      <td>CX 261</td>\n",
       "      <td>2023-12-21 00:05:00</td>\n",
       "      <td>Paris</td>\n",
       "      <td>Dep 00:09</td>\n",
       "      <td>1</td>\n",
       "      <td>HKG</td>\n",
       "      <td>383</td>\n",
       "    </tr>\n",
       "    <tr>\n",
       "      <th>1</th>\n",
       "      <td>RH 358</td>\n",
       "      <td>2023-12-21 00:05:00</td>\n",
       "      <td>Almaty\\nMilan/MXP</td>\n",
       "      <td>Dep 07:08</td>\n",
       "      <td>0</td>\n",
       "      <td>HKG</td>\n",
       "      <td>336</td>\n",
       "    </tr>\n",
       "    <tr>\n",
       "      <th>2</th>\n",
       "      <td>CX 2035</td>\n",
       "      <td>2023-12-21 00:10:00</td>\n",
       "      <td>HKG</td>\n",
       "      <td>At gate 23:55 (20/12/2023)</td>\n",
       "      <td>0</td>\n",
       "      <td>Osaka/Kansai\\nTaipei</td>\n",
       "      <td>289</td>\n",
       "    </tr>\n",
       "    <tr>\n",
       "      <th>3</th>\n",
       "      <td>MU 725</td>\n",
       "      <td>2023-12-21 00:15:00</td>\n",
       "      <td>HKG</td>\n",
       "      <td>At gate 00:29</td>\n",
       "      <td>1</td>\n",
       "      <td>Shanghai/PVG</td>\n",
       "      <td>292</td>\n",
       "    </tr>\n",
       "    <tr>\n",
       "      <th>4</th>\n",
       "      <td>CX 289</td>\n",
       "      <td>2023-12-21 00:15:00</td>\n",
       "      <td>Frankfurt</td>\n",
       "      <td>Dep 00:17</td>\n",
       "      <td>1</td>\n",
       "      <td>HKG</td>\n",
       "      <td>345</td>\n",
       "    </tr>\n",
       "  </tbody>\n",
       "</table>\n",
       "</div>"
      ],
      "text/plain": [
       "      code            time_sch               dest                    time_act  \\\n",
       "0   CX 261 2023-12-21 00:05:00              Paris                   Dep 00:09   \n",
       "1   RH 358 2023-12-21 00:05:00  Almaty\\nMilan/MXP                   Dep 07:08   \n",
       "2  CX 2035 2023-12-21 00:10:00                HKG  At gate 23:55 (20/12/2023)   \n",
       "3   MU 725 2023-12-21 00:15:00                HKG               At gate 00:29   \n",
       "4   CX 289 2023-12-21 00:15:00          Frankfurt                   Dep 00:17   \n",
       "\n",
       "   commercial                  orig  pass_load  \n",
       "0           1                   HKG        383  \n",
       "1           0                   HKG        336  \n",
       "2           0  Osaka/Kansai\\nTaipei        289  \n",
       "3           1          Shanghai/PVG        292  \n",
       "4           1                   HKG        345  "
      ]
     },
     "execution_count": 58,
     "metadata": {},
     "output_type": "execute_result"
    }
   ],
   "source": [
    "df.head()"
   ]
  },
  {
   "cell_type": "code",
   "execution_count": 53,
   "metadata": {},
   "outputs": [
    {
     "ename": "SyntaxError",
     "evalue": "unexpected EOF while parsing (<ipython-input-53-856f607a48ea>, line 12)",
     "output_type": "error",
     "traceback": [
      "\u001b[0;36m  File \u001b[0;32m\"<ipython-input-53-856f607a48ea>\"\u001b[0;36m, line \u001b[0;32m12\u001b[0m\n\u001b[0;31m    elif file[10:13] == \"HKG\":\u001b[0m\n\u001b[0m                              ^\u001b[0m\n\u001b[0;31mSyntaxError\u001b[0m\u001b[0;31m:\u001b[0m unexpected EOF while parsing\n"
     ]
    }
   ],
   "source": [
    "# if file is on amsterdam\n",
    "if file[10:13] == \"AMS\":\n",
    "    # the actual time either on time or delayed\n",
    "    time_act = pd.Series(f\"2023 {month} {date} \" + df['time_act'])\n",
    "    df['time_act'] = pd.to_datetime(time_act, format = \"%Y %b %d %H:%M\")\n",
    "    df[\"time_diff\"]  = df.apply(lambda x:(x['time_act'] - x['time_sch']).total_seconds(), axis = 1)\n",
    "    # columns with negative time difference\n",
    "    indices = df.query(\"time_diff < 0\").index\n",
    "    for ind in indices:\n",
    "        df.loc[ind,\"time_act\"] = df.loc[ind,\"time_act\"] + pd.Timedelta(1, unit = \"D\")\n",
    "\n",
    "elif file[10:13] == \"HKG\":\n",
    "    # parse the time\n",
    "    time_act_t = df[\"time_act\"].str.split(\":\")\n",
    "    time_act_t = time_act_t.apply(lambda x: f\"{x[0][-2:]}:{x[1][:2]}\")\n",
    "    # parse the date\n",
    "    time_act_d = df[\"time_act\"].str.split(\"/\")\n",
    "    time_act_d = time_act_d.apply(lambda x: x[0][-2:] if len(x) > 1 else None)\n",
    "    time_act_d = time_act_d.fillna(date)\n",
    "    # concatenate the time and the date\n",
    "    df['time_act'] = \"2023 \" + month + \" \" + time_act_d + \" \" + time_act_t\n",
    "    df['time_act'] = pd.to_datetime(time_act, format = \"%Y %b %d %H:%M\")\n",
    "    "
   ]
  },
  {
   "cell_type": "code",
   "execution_count": 79,
   "metadata": {},
   "outputs": [],
   "source": [
    "\n"
   ]
  },
  {
   "cell_type": "code",
   "execution_count": 84,
   "metadata": {},
   "outputs": [],
   "source": [
    "\n"
   ]
  },
  {
   "cell_type": "code",
   "execution_count": null,
   "metadata": {},
   "outputs": [],
   "source": []
  }
 ],
 "metadata": {
  "kernelspec": {
   "display_name": "base",
   "language": "python",
   "name": "python3"
  },
  "language_info": {
   "codemirror_mode": {
    "name": "ipython",
    "version": 3
   },
   "file_extension": ".py",
   "mimetype": "text/x-python",
   "name": "python",
   "nbconvert_exporter": "python",
   "pygments_lexer": "ipython3",
   "version": "3.8.3"
  }
 },
 "nbformat": 4,
 "nbformat_minor": 2
}
