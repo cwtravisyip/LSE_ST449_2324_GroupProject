{
 "cells": [
  {
   "cell_type": "markdown",
   "metadata": {},
   "source": [
    "## Testing CSP Algorithm\n",
    "This notebook is used to create a reviewed flight schedule. It should take the input:\n",
    "* the original departure / landing time\\\n",
    "* id of the flight"
   ]
  },
  {
   "cell_type": "code",
   "execution_count": 81,
   "metadata": {},
   "outputs": [],
   "source": [
    "import pandas as pd\n",
    "import constraint\n",
    "import time"
   ]
  },
  {
   "cell_type": "code",
   "execution_count": 6,
   "metadata": {},
   "outputs": [
    {
     "name": "stderr",
     "output_type": "stream",
     "text": [
      "<ipython-input-6-9820427f3e9e>:1: UserWarning: Could not infer format, so each element will be parsed individually, falling back to `dateutil`. To ensure parsing is consistent and as-expected, please specify a format.\n",
      "  data = pd.read_csv(\"./data/19DEC2023_AMS.csv\", parse_dates= [\"time_sch\",\"time_act\"])\n",
      "<ipython-input-6-9820427f3e9e>:1: UserWarning: Could not infer format, so each element will be parsed individually, falling back to `dateutil`. To ensure parsing is consistent and as-expected, please specify a format.\n",
      "  data = pd.read_csv(\"./data/19DEC2023_AMS.csv\", parse_dates= [\"time_sch\",\"time_act\"])\n"
     ]
    }
   ],
   "source": [
    "data = pd.read_csv(\"./data/19DEC2023_AMS.csv\", parse_dates= [\"time_sch\",\"time_act\"])"
   ]
  },
  {
   "cell_type": "markdown",
   "metadata": {},
   "source": [
    "Note that the data contains flights scheduled for the morning hours to the earning hours of the preceding day.\n",
    "We will first sort the values by the scheduled time `time_sch` to identify those late night flights"
   ]
  },
  {
   "cell_type": "code",
   "execution_count": 11,
   "metadata": {},
   "outputs": [],
   "source": [
    "data_sorted = data.sort_values(\"time_sch\").reset_index(drop = True)"
   ]
  },
  {
   "cell_type": "markdown",
   "metadata": {},
   "source": [
    "For the purpose of testing, we will only subset a small chunk of the flight schedule."
   ]
  },
  {
   "cell_type": "code",
   "execution_count": 111,
   "metadata": {},
   "outputs": [],
   "source": [
    "# retrieve the boolean index for flightrs scheduled between 10pm - 3am\n",
    "# index = data_sorted['time_sch'].map(lambda x: x.hour>=  23) \n",
    "# subset the data\n",
    "# data_subset = data[index]\n",
    "# print(f\"There are {len(data_subset)} scheduled flights in this dataset.\")\n",
    "\n",
    "\n",
    "# alternatively get the tail\n",
    "data_subset_n8 = data_sorted.tail(8)\n"
   ]
  },
  {
   "cell_type": "markdown",
   "metadata": {},
   "source": [
    "**Assumptions**\n",
    "Now assume that the airport has to be shut down for 30 minutes between 22:00 to 22:30. Note also that after 23:00, the airport can only operate on 1 runway. We also assume the airport only have enough staff to handle any take-off and landing until 01:00 for simplicity.\n",
    "We also assume that flights can at best arrive on schedule but never earlier than schedule.\n",
    "We will **not** consider if airborne flight has enough fuel to cruise in the air or not for this first simulation."
   ]
  },
  {
   "cell_type": "markdown",
   "metadata": {},
   "source": [
    "We will first run a naive algorithm that test for the `constraint` package in solving the question. \n",
    "Each flight can be considered as a varaible. For simplicity, we express the domain as the time (in minute) after the airport continue to operate (22:30). Given the assumption we made, the domain should take the minimum value of $f(x)=max(0,time\\_sch)$ and the maximum value of 150"
   ]
  },
  {
   "cell_type": "code",
   "execution_count": 113,
   "metadata": {},
   "outputs": [
    {
     "name": "stdout",
     "output_type": "stream",
     "text": [
      "Adding variable for KL 1082 KLM that was scheduled to use the runway at 23:20\n",
      "Adding variable for KL 1136 KLM that was scheduled to use the runway at 23:20\n",
      "Adding variable for KL 1834 KLM that was scheduled to use the runway at 23:20\n",
      "Adding variable for HV 6118 Transavia that was scheduled to use the runway at 23:25\n",
      "Adding variable for KL 1608 KLM that was scheduled to use the runway at 23:25\n",
      "Adding variable for HV 6902 Transavia that was scheduled to use the runway at 23:40\n",
      "Adding variable for HV 5356 Transavia that was scheduled to use the runway at 23:45\n",
      "Adding variable for HV 6120 Transavia that was scheduled to use the runway at 23:50\n"
     ]
    }
   ],
   "source": [
    "# initiate the problem\n",
    "flight_schedule = constraint.Problem()\n",
    "\n",
    "# add a variable for each flight\n",
    "for key, flight in data_subset_n8.iterrows():\n",
    "    print(f\"Adding variable for {flight['code']} that was scheduled to use the runway at {flight['time_sch'].hour}:{flight['time_sch'].minute:02d}\")\n",
    "    # compute the relative time of schedule take-off/landing\n",
    "    min_time = max((flight['time_sch'].hour - 23) * 60 + flight['time_sch'].minute -30,0)\n",
    "    flight_schedule.addVariable(flight['code'], range(min_time,30,5))"
   ]
  },
  {
   "cell_type": "code",
   "execution_count": 114,
   "metadata": {},
   "outputs": [],
   "source": [
    "# define constraint - no more than 2 flight at a given time \n",
    "def not_same_time(*args):\n",
    "    \"\"\"\n",
    "    check that no two flights are using the runway at the same time\n",
    "    \"\"\"\n",
    "    schedule = sorted([agr for agr in args])\n",
    "    schedule_counter = pd.Series(schedule).value_counts()\n",
    "    if schedule_counter.max() >=2:\n",
    "        return None\n",
    "    else:\n",
    "        return True\n"
   ]
  },
  {
   "cell_type": "code",
   "execution_count": 115,
   "metadata": {},
   "outputs": [],
   "source": [
    "flight_schedule.addConstraint(not_same_time,[flight['code'] for key, flight in  data_subset_n8.iterrows()])"
   ]
  },
  {
   "cell_type": "markdown",
   "metadata": {},
   "source": [
    "In the case of only 5 flights, the algorithm returns 48 solutions in about 10 secods. For   As the number of flight increases, the processing time to get all the solution increases exponentially."
   ]
  },
  {
   "cell_type": "code",
   "execution_count": null,
   "metadata": {},
   "outputs": [],
   "source": []
  }
 ],
 "metadata": {
  "kernelspec": {
   "display_name": "base",
   "language": "python",
   "name": "python3"
  },
  "language_info": {
   "codemirror_mode": {
    "name": "ipython",
    "version": 3
   },
   "file_extension": ".py",
   "mimetype": "text/x-python",
   "name": "python",
   "nbconvert_exporter": "python",
   "pygments_lexer": "ipython3",
   "version": "3.8.3"
  }
 },
 "nbformat": 4,
 "nbformat_minor": 2
}
