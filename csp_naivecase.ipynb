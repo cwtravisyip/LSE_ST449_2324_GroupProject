{
 "cells": [
  {
   "cell_type": "markdown",
   "metadata": {},
   "source": [
    "## Testing CSP Algorithm\n",
    "This notebook is used to create a reviewed flight schedule. It should take the input:\n",
    "* the original departure / landing time\\\n",
    "* id of the flight"
   ]
  },
  {
   "cell_type": "code",
   "execution_count": 187,
   "metadata": {},
   "outputs": [],
   "source": [
    "import pandas as pd\n",
    "import constraint\n",
    "import time\n",
    "import numpy as np"
   ]
  },
  {
   "cell_type": "code",
   "execution_count": 2,
   "metadata": {},
   "outputs": [
    {
     "name": "stderr",
     "output_type": "stream",
     "text": [
      "<ipython-input-2-9820427f3e9e>:1: UserWarning: Could not infer format, so each element will be parsed individually, falling back to `dateutil`. To ensure parsing is consistent and as-expected, please specify a format.\n",
      "  data = pd.read_csv(\"./data/19DEC2023_AMS.csv\", parse_dates= [\"time_sch\",\"time_act\"])\n",
      "<ipython-input-2-9820427f3e9e>:1: UserWarning: Could not infer format, so each element will be parsed individually, falling back to `dateutil`. To ensure parsing is consistent and as-expected, please specify a format.\n",
      "  data = pd.read_csv(\"./data/19DEC2023_AMS.csv\", parse_dates= [\"time_sch\",\"time_act\"])\n"
     ]
    }
   ],
   "source": [
    "data = pd.read_csv(\"./data/19DEC2023_AMS.csv\", parse_dates= [\"time_sch\",\"time_act\"])"
   ]
  },
  {
   "cell_type": "markdown",
   "metadata": {},
   "source": [
    "Note that the data contains flights scheduled for the morning hours to the earning hours of the preceding day.\n",
    "We will first sort the values by the scheduled time `time_sch` to identify those late night flights"
   ]
  },
  {
   "cell_type": "code",
   "execution_count": 3,
   "metadata": {},
   "outputs": [],
   "source": [
    "data_sorted = data.sort_values(\"time_sch\").reset_index(drop = True)"
   ]
  },
  {
   "cell_type": "markdown",
   "metadata": {},
   "source": [
    "For the purpose of testing, we will only subset a small chunk of the flight schedule."
   ]
  },
  {
   "cell_type": "code",
   "execution_count": 15,
   "metadata": {},
   "outputs": [],
   "source": [
    "# retrieve the boolean index for flightrs scheduled between 10pm - 3am\n",
    "# index = data_sorted['time_sch'].map(lambda x: x.hour>=  23) \n",
    "# subset the data\n",
    "# data_subset = data[index]\n",
    "# print(f\"There are {len(data_subset)} scheduled flights in this dataset.\")\n",
    "\n",
    "\n",
    "# alternatively get the tail\n",
    "data_subset_n5 = data_sorted.tail(5)\n"
   ]
  },
  {
   "cell_type": "markdown",
   "metadata": {},
   "source": [
    "## Set Up 1: Naive Case\n",
    "**Assumptions**\n",
    "Now assume that the airport has to be shut down for 30 minutes between 22:00 to 22:30. Note also that after 23:00, the airport can only operate on **1 runway**. We also assume the airport only have enough staff to handle any take-off and landing until 01:00 for simplicity.\n",
    "We also assume that flights can at best arrive on schedule but never earlier than schedule.\n",
    "We will **not** consider if airborne flight has enough fuel to cruise in the air or not for this first simulation."
   ]
  },
  {
   "cell_type": "markdown",
   "metadata": {},
   "source": [
    "We will first run a naive algorithm that test for the `constraint` package in solving the question. \n",
    "Each flight can be considered as a varaible. For simplicity, we express the domain as the time (in minute) after the airport continue to operate (22:30). Given the assumption we made, the domain should take the minimum value of $f(x)=max(0,time\\_sch)$ and the maximum value of 90."
   ]
  },
  {
   "cell_type": "code",
   "execution_count": 19,
   "metadata": {},
   "outputs": [
    {
     "name": "stdout",
     "output_type": "stream",
     "text": [
      "Adding variable for HV 6118 Transavia that was scheduled to use the runway at 23:25\n",
      "Adding variable for KL 1608 KLM that was scheduled to use the runway at 23:25\n",
      "Adding variable for HV 6902 Transavia that was scheduled to use the runway at 23:40\n",
      "Adding variable for HV 5356 Transavia that was scheduled to use the runway at 23:45\n",
      "Adding variable for HV 6120 Transavia that was scheduled to use the runway at 23:50\n"
     ]
    }
   ],
   "source": [
    "# initiate the problem\n",
    "flight_schedule = constraint.Problem()\n",
    "\n",
    "# define global var\n",
    "n_runway = 1\n",
    "time_lag = 5\n",
    "op_hr = 23\n",
    "op_min = 30\n",
    "max_time = 30\n",
    "\n",
    "# add a variable for each flight\n",
    "for key, flight in data_subset_n5.iterrows():\n",
    "    print(f\"Adding variable for {flight['code']} that was scheduled to use the runway at {flight['time_sch'].hour}:{flight['time_sch'].minute:02d}\")\n",
    "    # compute the relative time of schedule take-off/landing\n",
    "    min_time = max((flight['time_sch'].hour - op_hr) * 60 + flight['time_sch'].minute -op_min,0)\n",
    "    flight_schedule.addVariable(flight['code'], range(min_time,max_time,time_lag ))"
   ]
  },
  {
   "cell_type": "code",
   "execution_count": 120,
   "metadata": {},
   "outputs": [],
   "source": [
    "# define constraint - no more than 2 flight at a given time \n",
    "def not_same_time(*flights):\n",
    "    \"\"\"\n",
    "    check that no two flights are using the runway at the same time\n",
    "    \"\"\"\n",
    "    global n_runway\n",
    "    schedule = [flight for flight in flights]\n",
    "    schedule_counter = pd.Series(schedule).value_counts()\n",
    "    if schedule_counter.max() > n_runway:\n",
    "        # assumed only one runway is operable\n",
    "        return None\n",
    "    else:\n",
    "        return True\n",
    "\n",
    "\n",
    "# add the constraint\n",
    "flight_schedule.addConstraint(not_same_time,[flight['code'] for key, flight in  data_subset_n5.iterrows()])\n"
   ]
  },
  {
   "cell_type": "code",
   "execution_count": 121,
   "metadata": {},
   "outputs": [
    {
     "name": "stdout",
     "output_type": "stream",
     "text": [
      "48\n",
      "{'HV 6120 Transavia': 25, 'HV 5356 Transavia': 20, 'HV 6902 Transavia': 15, 'HV 6118 Transavia': 10, 'KL 1608 KLM': 0}\n"
     ]
    }
   ],
   "source": [
    "# get the solution\n",
    "sol_1 = flight_schedule.getSolutions()\n",
    "\n",
    "# print the solutions\n",
    "print(len(sol_1))\n",
    "print(sol_1[0])\n"
   ]
  },
  {
   "cell_type": "markdown",
   "metadata": {},
   "source": [
    "In the case of only 5 flights, the algorithm returns 48 solutions in about 10 secods. For   As the number of flight increases, the processing time to get all the solution increases exponentially."
   ]
  },
  {
   "cell_type": "markdown",
   "metadata": {},
   "source": [
    "## Set up 2\n",
    "We can now try to build a more complex case.\n",
    "* Consider whether a flight is departure or arrival.\n",
    "* Consider the aircraft load\n",
    "* Consider the possibility of diversion\n",
    "\n",
    "We will first need to manipulate the data to add these complexity. For the departure/arrival variable, this is already implicitly stated in the dataframe. For the load, however, the existing data frame do not have any data for it. We will randomly assign a continuous variable as a simulation case.\n"
   ]
  },
  {
   "cell_type": "code",
   "execution_count": 122,
   "metadata": {},
   "outputs": [],
   "source": [
    "# create a shallow copy\n",
    "df_2 = data.copy()\n",
    "\n",
    "# add a binary departure variable\n",
    "df_2['depature'] = df_2['orig'].map(lambda orig: True if orig == \"Amsterdam\" else False)\n",
    "\n",
    "# add a random variable of flight passenger load\n",
    "np.random.seed(2024)\n",
    "df_2['pass_load'] = np.random.normal(300,50,size =len(df_2))\n",
    "\n"
   ]
  },
  {
   "cell_type": "markdown",
   "metadata": {},
   "source": [
    "Under this set up, we can define each flight as a variable with a domain of either a integer value or `none` for diverted flight.\n",
    "\n",
    "In this set up, let's consider the following constraints:\n",
    "* There could only be maximum of 1 flights at each time slot.\n",
    "* Each flight can only be delayed by a maximum of 80 minutes.\n",
    "* (potentially) the cumulative number of take off/landing should only differ by 10 (this ensures that the landing plane always have a gate)\n",
    "\n",
    "Let's assume the airport is shut between 23:00 to 23:59. We only take a further subset to limit the run time."
   ]
  },
  {
   "cell_type": "code",
   "execution_count": null,
   "metadata": {},
   "outputs": [],
   "source": [
    "# define global var\n",
    "n_runway = 1\n",
    "time_lag = 5\n",
    "op_hr = 24\n",
    "op_min = 0\n",
    "max_time = 60 # time for airport still under operation in minute\n",
    "max_diversion = 0.2\n",
    "max_delay_minute = 80"
   ]
  },
  {
   "cell_type": "code",
   "execution_count": 199,
   "metadata": {},
   "outputs": [],
   "source": [
    "# subset for flights scheduled after 23\n",
    "df2_subset = df_2[df_2['time_sch'].map(lambda x: x.hour >= 23)].sample(frac = 0.5)"
   ]
  },
  {
   "cell_type": "code",
   "execution_count": 201,
   "metadata": {},
   "outputs": [],
   "source": [
    "# maximum 2 flights at each time slot (defined in part 1)\n",
    "# def not_same_time(*flights)\n",
    "\n",
    "# each flight can only be delayed by 1.5 hours to iterate through flight\n",
    "def max_delay(flight_var):\n",
    "    # parse the scheduled time in minute relative to time of airport resumption\n",
    "    global df2_subset\n",
    "    global flight_code\n",
    "    global max_delay_minute\n",
    "    time_sch = df2_subset[df2_subset['code'] == flight_code]['time_sch'].reset_index().loc[0,'time_sch']\n",
    "    time_sch = (time_sch.hour - op_hr)* 60 + time_sch.minute - op_min\n",
    "    if (flight_var is None) or (flight_var - time_sch <= max_delay_minute):\n",
    "        return True\n",
    "    else:\n",
    "        return None\n",
    "\n",
    "# maximum number of diversion\n",
    "def max_n_divert(*flights):\n",
    "    global max_diversion # in decimal unit\n",
    "    schedule = pd.Series([flight for flight in flights])\n",
    "    n_resch = schedule.count() # number of rescheduled flights\n",
    "    n_sch = len(schedule)\n",
    "    if 1- n_resch / n_sch < max_diversion:\n",
    "        return True\n",
    "\n",
    "# cumulative take off and landing can only differ by 10\n"
   ]
  },
  {
   "cell_type": "code",
   "execution_count": 202,
   "metadata": {},
   "outputs": [
    {
     "name": "stdout",
     "output_type": "stream",
     "text": [
      "Adding variable for KL 1608 KLM that was scheduled to use the runway at 23:25\n",
      "<class 'list'>\n",
      "[0, 5, 10, 15, 20, 25, 30, 35, 40, 45, 50, 55, None]\n",
      "Adding variable for KL 980 KLM that was scheduled to use the runway at 23:00\n",
      "<class 'list'>\n",
      "[0, 5, 10, 15, 20, 25, 30, 35, 40, 45, 50, 55, None]\n",
      "Adding variable for KL 1706 KLM that was scheduled to use the runway at 23:00\n",
      "<class 'list'>\n",
      "[0, 5, 10, 15, 20, 25, 30, 35, 40, 45, 50, 55, None]\n",
      "Adding variable for KL 1834 KLM that was scheduled to use the runway at 23:20\n",
      "<class 'list'>\n",
      "[0, 5, 10, 15, 20, 25, 30, 35, 40, 45, 50, 55, None]\n",
      "Adding variable for HV 6120 Transavia that was scheduled to use the runway at 23:50\n",
      "<class 'list'>\n",
      "[0, 5, 10, 15, 20, 25, 30, 35, 40, 45, 50, 55, None]\n",
      "Adding variable for KL 1118 KLM that was scheduled to use the runway at 23:00\n",
      "<class 'list'>\n",
      "[0, 5, 10, 15, 20, 25, 30, 35, 40, 45, 50, 55, None]\n",
      "Adding variable for HV 5140 Transavia that was scheduled to use the runway at 23:00\n",
      "<class 'list'>\n",
      "[0, 5, 10, 15, 20, 25, 30, 35, 40, 45, 50, 55, None]\n",
      "Adding variable for KL 1136 KLM that was scheduled to use the runway at 23:20\n",
      "<class 'list'>\n",
      "[0, 5, 10, 15, 20, 25, 30, 35, 40, 45, 50, 55, None]\n"
     ]
    }
   ],
   "source": [
    "# initiate the problem\n",
    "csp2 = constraint.Problem()\n",
    "\n",
    "# add a variable for each flight\n",
    "for key, flight in df2_subset.iterrows():\n",
    "    print(f\"Adding variable for {flight['code']} that was scheduled to use the runway at {flight['time_sch'].hour}:{flight['time_sch'].minute:02d}\")\n",
    "    # compute the relative time of schedule take-off/landing\n",
    "    min_time = max((flight['time_sch'].hour - op_hr) * 60 + flight['time_sch'].minute -op_min,0)\n",
    "    domain = list(range(min_time,max_time, time_lag))\n",
    "    domain.append(None)\n",
    "    print(type(domain))\n",
    "    print(domain)\n",
    "    # add the variable\n",
    "    csp2.addVariable(flight['code'], domain)\n",
    "\n",
    "# add slots constraint\n",
    "csp2.addConstraint(not_same_time,[flight['code'] for key, flight in  df2_subset.iterrows()])\n",
    "\n",
    "# add max delay constraint\n",
    "for key, flight in df2_subset.iterrows():\n",
    "    flight_code = flight['code']\n",
    "    csp2.addConstraint(max_delay,[flight['code']])\n",
    "\n",
    "# add max n delay constraint\n",
    "    csp2.addConstraint(max_n_divert,[flight['code'] for key, flight in  df2_subset.iterrows()])"
   ]
  },
  {
   "cell_type": "markdown",
   "metadata": {},
   "source": [
    "To test the time complexity of the algorithm, let's first just get one solution:"
   ]
  },
  {
   "cell_type": "code",
   "execution_count": 203,
   "metadata": {},
   "outputs": [],
   "source": [
    "sol2_first = csp2.getSolution()"
   ]
  },
  {
   "cell_type": "markdown",
   "metadata": {},
   "source": [
    "Even with just getting one solution, algorithm requires more than 3 minutes to yield the first result."
   ]
  },
  {
   "cell_type": "code",
   "execution_count": 204,
   "metadata": {},
   "outputs": [
    {
     "data": {
      "text/plain": [
       "{'HV 5140 Transavia': None,\n",
       " 'HV 6120 Transavia': 40,\n",
       " 'KL 1118 KLM': 35,\n",
       " 'KL 1136 KLM': 30,\n",
       " 'KL 1608 KLM': 25,\n",
       " 'KL 1706 KLM': 20,\n",
       " 'KL 1834 KLM': 15,\n",
       " 'KL 980 KLM': 10}"
      ]
     },
     "execution_count": 204,
     "metadata": {},
     "output_type": "execute_result"
    }
   ],
   "source": [
    "sol2_first"
   ]
  },
  {
   "cell_type": "code",
   "execution_count": null,
   "metadata": {},
   "outputs": [],
   "source": [
    "sol2 = csp2.getSolutions()"
   ]
  }
 ],
 "metadata": {
  "kernelspec": {
   "display_name": "base",
   "language": "python",
   "name": "python3"
  },
  "language_info": {
   "codemirror_mode": {
    "name": "ipython",
    "version": 3
   },
   "file_extension": ".py",
   "mimetype": "text/x-python",
   "name": "python",
   "nbconvert_exporter": "python",
   "pygments_lexer": "ipython3",
   "version": "3.8.3"
  }
 },
 "nbformat": 4,
 "nbformat_minor": 2
}
